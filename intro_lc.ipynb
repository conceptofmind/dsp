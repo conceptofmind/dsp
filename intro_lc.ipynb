{
 "cells": [
  {
   "cell_type": "code",
   "execution_count": 2,
   "metadata": {},
   "outputs": [],
   "source": [
    "import pandas as pd\n",
    "from tqdm import tqdm\n",
    "from IPython.display import display \n",
    "from langchain.llms import OpenAI\n",
    "from langchain.prompts import PromptTemplate, FewShotPromptTemplate\n",
    "from langchain.chains import LLMChain\n",
    "\n",
    "from utils import evaluate, ColBERTv2\n",
    "\n",
    "\n",
    "train = [('Who produced the album that included a re-recording of \"Lithium\"?', ['Butch Vig']),\n",
    "         ('Who was the director of the 2009 movie featuring Peter Outerbridge as William Easton?', ['Kevin Greutert']),\n",
    "         ('The heir to the Du Pont family fortune sponsored what wrestling team?', ['Foxcatcher', 'Team Foxcatcher', 'Foxcatcher Team']),\n",
    "         ('In what year was the star of To Hell and Back born?', ['1925']),\n",
    "         ('Which award did the first book of Gary Zukav receive?', ['U.S. National Book Award', 'National Book Award']),\n",
    "         ('What city was the victim of Joseph Druces working in?', ['Boston, Massachusetts', 'Boston']),]\n",
    "\n",
    "dev = [('Who has a broader scope of profession: E. L. Doctorow or Julia Peterkin?', ['E. L. Doctorow', 'E.L. Doctorow', 'Doctorow']),\n",
    "       ('What documentary about the Gilgo Beach Killer debuted on A&E?', ['The Killing Season']),\n",
    "       ('Right Back At It Again contains lyrics co-written by the singer born in what city?', ['Gainesville, Florida', 'Gainesville']),\n",
    "       ('What year was the party of the winner of the 1971 San Francisco mayoral election founded?', ['1828']),\n",
    "       ('Which author is English: John Braine or Studs Terkel?', ['John Braine']),\n",
    "       ('Anthony Dirrell is the brother of which super middleweight title holder?', ['Andre Dirrell']),\n",
    "       ('In which city is the sports nutrition business established by Oliver Cookson based ?', ['Cheshire', 'Cheshire, UK']),\n",
    "       ('Find the birth date of the actor who played roles in First Wives Club and Searching for the Elephant.', ['February 13, 1980']),\n",
    "       ('Kyle Moran was born in the town on what river?', ['Castletown', 'Castletown River']),\n",
    "       (\"What is the name of one branch of Robert D. Braun's speciality?\", ['aeronautical engineering', 'astronautical engineering', 'aeronautics', 'astronautics']),\n",
    "       (\"Where was the actress who played the niece in the Priest film born?\", ['Surrey', 'Guildford, Surrey']),\n",
    "       ('Name the movie in which the daughter of Noel Harrison plays Violet Trefusis.', ['Portrait of a Marriage']),\n",
    "       ('What year was the father of the Princes in the Tower born?', ['1442'])]\n",
    "\n",
    "\n",
    "train = [{'question': q, 'answer': a[0]} for q, a in train]\n",
    "dev = [{'question': q, 'answers': a} for q, a in dev]"
   ]
  },
  {
   "cell_type": "code",
   "execution_count": 3,
   "metadata": {},
   "outputs": [],
   "source": [
    "llm = OpenAI(temperature=0.9)\n",
    "rm = ColBERTv2('http://ec2-44-228-128-229.us-west-2.compute.amazonaws.com:8893/api/search')"
   ]
  },
  {
   "attachments": {},
   "cell_type": "markdown",
   "metadata": {},
   "source": [
    "# 1 - Vanilla GPT-3.5"
   ]
  },
  {
   "cell_type": "code",
   "execution_count": 12,
   "metadata": {},
   "outputs": [],
   "source": [
    "example_question_answer_template = \"\"\"\n",
    "Question: {question}\n",
    "Answer: {answer}\n",
    "\"\"\"\n",
    "example_prompt = PromptTemplate(\n",
    "    input_variables=['question', 'answer'],\n",
    "    template=example_question_answer_template,\n",
    ")\n",
    "\n",
    "prefix = \"\"\"\n",
    "Answer questions with short factoid answers.\n",
    "\n",
    "---\n",
    "\n",
    "Follow the following format.\n",
    "\n",
    "Question: $[the question to be answered]\n",
    "Answer: $[a short factoid answer, often between 1 and 5 words]\n",
    "\n",
    "---\n",
    "\"\"\"\n",
    "\n",
    "few_shot_prompt = FewShotPromptTemplate(\n",
    "    examples=train,\n",
    "    example_prompt=example_prompt,\n",
    "    prefix=prefix,\n",
    "    suffix=\"\\nQuestion: {question}\\nAnswer:\",\n",
    "    input_variables=['question'],\n",
    "    example_separator=''\n",
    ")\n",
    "\n",
    "chain = LLMChain(llm=llm, prompt=few_shot_prompt)\n",
    "\n",
    "def run_vanilla_chain(example):\n",
    "    return chain.run(question=example['question'])"
   ]
  },
  {
   "cell_type": "code",
   "execution_count": 4,
   "metadata": {},
   "outputs": [
    {
     "name": "stderr",
     "output_type": "stream",
     "text": [
      "  0%|          | 0/13 [00:00<?, ?it/s]\n"
     ]
    },
    {
     "ename": "RateLimitError",
     "evalue": "You exceeded your current quota, please check your plan and billing details.",
     "output_type": "error",
     "traceback": [
      "\u001b[0;31m---------------------------------------------------------------------------\u001b[0m",
      "\u001b[0;31mRateLimitError\u001b[0m                            Traceback (most recent call last)",
      "Cell \u001b[0;32mIn[4], line 1\u001b[0m\n\u001b[0;32m----> 1\u001b[0m evaluate(run_vanilla_chain, dev)\n",
      "File \u001b[0;32m~/Documents/llm/dsp-test/utils.py:14\u001b[0m, in \u001b[0;36mevaluate\u001b[0;34m(run_chain, dev)\u001b[0m\n\u001b[1;32m     11\u001b[0m data \u001b[39m=\u001b[39m []\n\u001b[1;32m     13\u001b[0m \u001b[39mfor\u001b[39;00m example \u001b[39min\u001b[39;00m tqdm(dev):\n\u001b[0;32m---> 14\u001b[0m     prediction \u001b[39m=\u001b[39m run_chain(example)\n\u001b[1;32m     15\u001b[0m     prediction \u001b[39m=\u001b[39m prediction\u001b[39m.\u001b[39mstrip() \n\u001b[1;32m     17\u001b[0m     d \u001b[39m=\u001b[39m \u001b[39mdict\u001b[39m(example)\n",
      "Cell \u001b[0;32mIn[3], line 35\u001b[0m, in \u001b[0;36mrun_vanilla_chain\u001b[0;34m(example)\u001b[0m\n\u001b[1;32m     34\u001b[0m \u001b[39mdef\u001b[39;00m \u001b[39mrun_vanilla_chain\u001b[39m(example):\n\u001b[0;32m---> 35\u001b[0m     \u001b[39mreturn\u001b[39;00m chain\u001b[39m.\u001b[39;49mrun(question\u001b[39m=\u001b[39;49mexample[\u001b[39m'\u001b[39;49m\u001b[39mquestion\u001b[39;49m\u001b[39m'\u001b[39;49m])\n",
      "File \u001b[0;32m~/.miniconda3/envs/langchain/lib/python3.10/site-packages/langchain/chains/base.py:174\u001b[0m, in \u001b[0;36mChain.run\u001b[0;34m(self, *args, **kwargs)\u001b[0m\n\u001b[1;32m    171\u001b[0m     \u001b[39mreturn\u001b[39;00m \u001b[39mself\u001b[39m(args[\u001b[39m0\u001b[39m])[\u001b[39mself\u001b[39m\u001b[39m.\u001b[39moutput_keys[\u001b[39m0\u001b[39m]]\n\u001b[1;32m    173\u001b[0m \u001b[39mif\u001b[39;00m kwargs \u001b[39mand\u001b[39;00m \u001b[39mnot\u001b[39;00m args:\n\u001b[0;32m--> 174\u001b[0m     \u001b[39mreturn\u001b[39;00m \u001b[39mself\u001b[39;49m(kwargs)[\u001b[39mself\u001b[39m\u001b[39m.\u001b[39moutput_keys[\u001b[39m0\u001b[39m]]\n\u001b[1;32m    176\u001b[0m \u001b[39mraise\u001b[39;00m \u001b[39mValueError\u001b[39;00m(\n\u001b[1;32m    177\u001b[0m     \u001b[39mf\u001b[39m\u001b[39m\"\u001b[39m\u001b[39m`run` supported with either positional arguments or keyword arguments\u001b[39m\u001b[39m\"\u001b[39m\n\u001b[1;32m    178\u001b[0m     \u001b[39mf\u001b[39m\u001b[39m\"\u001b[39m\u001b[39m but not both. Got args: \u001b[39m\u001b[39m{\u001b[39;00margs\u001b[39m}\u001b[39;00m\u001b[39m and kwargs: \u001b[39m\u001b[39m{\u001b[39;00mkwargs\u001b[39m}\u001b[39;00m\u001b[39m.\u001b[39m\u001b[39m\"\u001b[39m\n\u001b[1;32m    179\u001b[0m )\n",
      "File \u001b[0;32m~/.miniconda3/envs/langchain/lib/python3.10/site-packages/langchain/chains/base.py:146\u001b[0m, in \u001b[0;36mChain.__call__\u001b[0;34m(self, inputs, return_only_outputs)\u001b[0m\n\u001b[1;32m    144\u001b[0m \u001b[39mexcept\u001b[39;00m \u001b[39mException\u001b[39;00m \u001b[39mas\u001b[39;00m e:\n\u001b[1;32m    145\u001b[0m     \u001b[39mself\u001b[39m\u001b[39m.\u001b[39mcallback_manager\u001b[39m.\u001b[39mon_chain_error(e, verbose\u001b[39m=\u001b[39m\u001b[39mself\u001b[39m\u001b[39m.\u001b[39mverbose)\n\u001b[0;32m--> 146\u001b[0m     \u001b[39mraise\u001b[39;00m e\n\u001b[1;32m    147\u001b[0m \u001b[39mself\u001b[39m\u001b[39m.\u001b[39mcallback_manager\u001b[39m.\u001b[39mon_chain_end(outputs, verbose\u001b[39m=\u001b[39m\u001b[39mself\u001b[39m\u001b[39m.\u001b[39mverbose)\n\u001b[1;32m    148\u001b[0m \u001b[39mself\u001b[39m\u001b[39m.\u001b[39m_validate_outputs(outputs)\n",
      "File \u001b[0;32m~/.miniconda3/envs/langchain/lib/python3.10/site-packages/langchain/chains/base.py:143\u001b[0m, in \u001b[0;36mChain.__call__\u001b[0;34m(self, inputs, return_only_outputs)\u001b[0m\n\u001b[1;32m    137\u001b[0m \u001b[39mself\u001b[39m\u001b[39m.\u001b[39mcallback_manager\u001b[39m.\u001b[39mon_chain_start(\n\u001b[1;32m    138\u001b[0m     {\u001b[39m\"\u001b[39m\u001b[39mname\u001b[39m\u001b[39m\"\u001b[39m: \u001b[39mself\u001b[39m\u001b[39m.\u001b[39m\u001b[39m__class__\u001b[39m\u001b[39m.\u001b[39m\u001b[39m__name__\u001b[39m},\n\u001b[1;32m    139\u001b[0m     inputs,\n\u001b[1;32m    140\u001b[0m     verbose\u001b[39m=\u001b[39m\u001b[39mself\u001b[39m\u001b[39m.\u001b[39mverbose,\n\u001b[1;32m    141\u001b[0m )\n\u001b[1;32m    142\u001b[0m \u001b[39mtry\u001b[39;00m:\n\u001b[0;32m--> 143\u001b[0m     outputs \u001b[39m=\u001b[39m \u001b[39mself\u001b[39;49m\u001b[39m.\u001b[39;49m_call(inputs)\n\u001b[1;32m    144\u001b[0m \u001b[39mexcept\u001b[39;00m \u001b[39mException\u001b[39;00m \u001b[39mas\u001b[39;00m e:\n\u001b[1;32m    145\u001b[0m     \u001b[39mself\u001b[39m\u001b[39m.\u001b[39mcallback_manager\u001b[39m.\u001b[39mon_chain_error(e, verbose\u001b[39m=\u001b[39m\u001b[39mself\u001b[39m\u001b[39m.\u001b[39mverbose)\n",
      "File \u001b[0;32m~/.miniconda3/envs/langchain/lib/python3.10/site-packages/langchain/chains/llm.py:86\u001b[0m, in \u001b[0;36mLLMChain._call\u001b[0;34m(self, inputs)\u001b[0m\n\u001b[1;32m     85\u001b[0m \u001b[39mdef\u001b[39;00m \u001b[39m_call\u001b[39m(\u001b[39mself\u001b[39m, inputs: Dict[\u001b[39mstr\u001b[39m, Any]) \u001b[39m-\u001b[39m\u001b[39m>\u001b[39m Dict[\u001b[39mstr\u001b[39m, \u001b[39mstr\u001b[39m]:\n\u001b[0;32m---> 86\u001b[0m     \u001b[39mreturn\u001b[39;00m \u001b[39mself\u001b[39;49m\u001b[39m.\u001b[39;49mapply([inputs])[\u001b[39m0\u001b[39m]\n",
      "File \u001b[0;32m~/.miniconda3/envs/langchain/lib/python3.10/site-packages/langchain/chains/llm.py:77\u001b[0m, in \u001b[0;36mLLMChain.apply\u001b[0;34m(self, input_list)\u001b[0m\n\u001b[1;32m     75\u001b[0m \u001b[39mdef\u001b[39;00m \u001b[39mapply\u001b[39m(\u001b[39mself\u001b[39m, input_list: List[Dict[\u001b[39mstr\u001b[39m, Any]]) \u001b[39m-\u001b[39m\u001b[39m>\u001b[39m List[Dict[\u001b[39mstr\u001b[39m, \u001b[39mstr\u001b[39m]]:\n\u001b[1;32m     76\u001b[0m     \u001b[39m\"\"\"Utilize the LLM generate method for speed gains.\"\"\"\u001b[39;00m\n\u001b[0;32m---> 77\u001b[0m     response \u001b[39m=\u001b[39m \u001b[39mself\u001b[39;49m\u001b[39m.\u001b[39;49mgenerate(input_list)\n\u001b[1;32m     78\u001b[0m     outputs \u001b[39m=\u001b[39m []\n\u001b[1;32m     79\u001b[0m     \u001b[39mfor\u001b[39;00m generation \u001b[39min\u001b[39;00m response\u001b[39m.\u001b[39mgenerations:\n\u001b[1;32m     80\u001b[0m         \u001b[39m# Get the text of the top generated string.\u001b[39;00m\n",
      "File \u001b[0;32m~/.miniconda3/envs/langchain/lib/python3.10/site-packages/langchain/chains/llm.py:72\u001b[0m, in \u001b[0;36mLLMChain.generate\u001b[0;34m(self, input_list)\u001b[0m\n\u001b[1;32m     68\u001b[0m         \u001b[39mraise\u001b[39;00m \u001b[39mValueError\u001b[39;00m(\n\u001b[1;32m     69\u001b[0m             \u001b[39m\"\u001b[39m\u001b[39mIf `stop` is present in any inputs, should be present in all.\u001b[39m\u001b[39m\"\u001b[39m\n\u001b[1;32m     70\u001b[0m         )\n\u001b[1;32m     71\u001b[0m     prompts\u001b[39m.\u001b[39mappend(prompt)\n\u001b[0;32m---> 72\u001b[0m response \u001b[39m=\u001b[39m \u001b[39mself\u001b[39;49m\u001b[39m.\u001b[39;49mllm\u001b[39m.\u001b[39;49mgenerate(prompts, stop\u001b[39m=\u001b[39;49mstop)\n\u001b[1;32m     73\u001b[0m \u001b[39mreturn\u001b[39;00m response\n",
      "File \u001b[0;32m~/.miniconda3/envs/langchain/lib/python3.10/site-packages/langchain/llms/base.py:79\u001b[0m, in \u001b[0;36mBaseLLM.generate\u001b[0;34m(self, prompts, stop)\u001b[0m\n\u001b[1;32m     77\u001b[0m \u001b[39mexcept\u001b[39;00m \u001b[39mException\u001b[39;00m \u001b[39mas\u001b[39;00m e:\n\u001b[1;32m     78\u001b[0m     \u001b[39mself\u001b[39m\u001b[39m.\u001b[39mcallback_manager\u001b[39m.\u001b[39mon_llm_error(e, verbose\u001b[39m=\u001b[39m\u001b[39mself\u001b[39m\u001b[39m.\u001b[39mverbose)\n\u001b[0;32m---> 79\u001b[0m     \u001b[39mraise\u001b[39;00m e\n\u001b[1;32m     80\u001b[0m \u001b[39mself\u001b[39m\u001b[39m.\u001b[39mcallback_manager\u001b[39m.\u001b[39mon_llm_end(output, verbose\u001b[39m=\u001b[39m\u001b[39mself\u001b[39m\u001b[39m.\u001b[39mverbose)\n\u001b[1;32m     81\u001b[0m \u001b[39mreturn\u001b[39;00m output\n",
      "File \u001b[0;32m~/.miniconda3/envs/langchain/lib/python3.10/site-packages/langchain/llms/base.py:76\u001b[0m, in \u001b[0;36mBaseLLM.generate\u001b[0;34m(self, prompts, stop)\u001b[0m\n\u001b[1;32m     72\u001b[0m \u001b[39mself\u001b[39m\u001b[39m.\u001b[39mcallback_manager\u001b[39m.\u001b[39mon_llm_start(\n\u001b[1;32m     73\u001b[0m     {\u001b[39m\"\u001b[39m\u001b[39mname\u001b[39m\u001b[39m\"\u001b[39m: \u001b[39mself\u001b[39m\u001b[39m.\u001b[39m\u001b[39m__class__\u001b[39m\u001b[39m.\u001b[39m\u001b[39m__name__\u001b[39m}, prompts, verbose\u001b[39m=\u001b[39m\u001b[39mself\u001b[39m\u001b[39m.\u001b[39mverbose\n\u001b[1;32m     74\u001b[0m )\n\u001b[1;32m     75\u001b[0m \u001b[39mtry\u001b[39;00m:\n\u001b[0;32m---> 76\u001b[0m     output \u001b[39m=\u001b[39m \u001b[39mself\u001b[39;49m\u001b[39m.\u001b[39;49m_generate(prompts, stop\u001b[39m=\u001b[39;49mstop)\n\u001b[1;32m     77\u001b[0m \u001b[39mexcept\u001b[39;00m \u001b[39mException\u001b[39;00m \u001b[39mas\u001b[39;00m e:\n\u001b[1;32m     78\u001b[0m     \u001b[39mself\u001b[39m\u001b[39m.\u001b[39mcallback_manager\u001b[39m.\u001b[39mon_llm_error(e, verbose\u001b[39m=\u001b[39m\u001b[39mself\u001b[39m\u001b[39m.\u001b[39mverbose)\n",
      "File \u001b[0;32m~/.miniconda3/envs/langchain/lib/python3.10/site-packages/langchain/llms/openai.py:158\u001b[0m, in \u001b[0;36mBaseOpenAI._generate\u001b[0;34m(self, prompts, stop)\u001b[0m\n\u001b[1;32m    156\u001b[0m _keys \u001b[39m=\u001b[39m {\u001b[39m\"\u001b[39m\u001b[39mcompletion_tokens\u001b[39m\u001b[39m\"\u001b[39m, \u001b[39m\"\u001b[39m\u001b[39mprompt_tokens\u001b[39m\u001b[39m\"\u001b[39m, \u001b[39m\"\u001b[39m\u001b[39mtotal_tokens\u001b[39m\u001b[39m\"\u001b[39m}\n\u001b[1;32m    157\u001b[0m \u001b[39mfor\u001b[39;00m _prompts \u001b[39min\u001b[39;00m sub_prompts:\n\u001b[0;32m--> 158\u001b[0m     response \u001b[39m=\u001b[39m \u001b[39mself\u001b[39;49m\u001b[39m.\u001b[39;49mclient\u001b[39m.\u001b[39;49mcreate(prompt\u001b[39m=\u001b[39;49m_prompts, \u001b[39m*\u001b[39;49m\u001b[39m*\u001b[39;49mparams)\n\u001b[1;32m    159\u001b[0m     choices\u001b[39m.\u001b[39mextend(response[\u001b[39m\"\u001b[39m\u001b[39mchoices\u001b[39m\u001b[39m\"\u001b[39m])\n\u001b[1;32m    160\u001b[0m     _keys_to_use \u001b[39m=\u001b[39m _keys\u001b[39m.\u001b[39mintersection(response[\u001b[39m\"\u001b[39m\u001b[39musage\u001b[39m\u001b[39m\"\u001b[39m])\n",
      "File \u001b[0;32m~/.miniconda3/envs/langchain/lib/python3.10/site-packages/openai/api_resources/completion.py:25\u001b[0m, in \u001b[0;36mCompletion.create\u001b[0;34m(cls, *args, **kwargs)\u001b[0m\n\u001b[1;32m     23\u001b[0m \u001b[39mwhile\u001b[39;00m \u001b[39mTrue\u001b[39;00m:\n\u001b[1;32m     24\u001b[0m     \u001b[39mtry\u001b[39;00m:\n\u001b[0;32m---> 25\u001b[0m         \u001b[39mreturn\u001b[39;00m \u001b[39msuper\u001b[39;49m()\u001b[39m.\u001b[39;49mcreate(\u001b[39m*\u001b[39;49margs, \u001b[39m*\u001b[39;49m\u001b[39m*\u001b[39;49mkwargs)\n\u001b[1;32m     26\u001b[0m     \u001b[39mexcept\u001b[39;00m TryAgain \u001b[39mas\u001b[39;00m e:\n\u001b[1;32m     27\u001b[0m         \u001b[39mif\u001b[39;00m timeout \u001b[39mis\u001b[39;00m \u001b[39mnot\u001b[39;00m \u001b[39mNone\u001b[39;00m \u001b[39mand\u001b[39;00m time\u001b[39m.\u001b[39mtime() \u001b[39m>\u001b[39m start \u001b[39m+\u001b[39m timeout:\n",
      "File \u001b[0;32m~/.miniconda3/envs/langchain/lib/python3.10/site-packages/openai/api_resources/abstract/engine_api_resource.py:153\u001b[0m, in \u001b[0;36mEngineAPIResource.create\u001b[0;34m(cls, api_key, api_base, api_type, request_id, api_version, organization, **params)\u001b[0m\n\u001b[1;32m    127\u001b[0m \u001b[39m@classmethod\u001b[39m\n\u001b[1;32m    128\u001b[0m \u001b[39mdef\u001b[39;00m \u001b[39mcreate\u001b[39m(\n\u001b[1;32m    129\u001b[0m     \u001b[39mcls\u001b[39m,\n\u001b[0;32m   (...)\u001b[0m\n\u001b[1;32m    136\u001b[0m     \u001b[39m*\u001b[39m\u001b[39m*\u001b[39mparams,\n\u001b[1;32m    137\u001b[0m ):\n\u001b[1;32m    138\u001b[0m     (\n\u001b[1;32m    139\u001b[0m         deployment_id,\n\u001b[1;32m    140\u001b[0m         engine,\n\u001b[0;32m   (...)\u001b[0m\n\u001b[1;32m    150\u001b[0m         api_key, api_base, api_type, api_version, organization, \u001b[39m*\u001b[39m\u001b[39m*\u001b[39mparams\n\u001b[1;32m    151\u001b[0m     )\n\u001b[0;32m--> 153\u001b[0m     response, _, api_key \u001b[39m=\u001b[39m requestor\u001b[39m.\u001b[39;49mrequest(\n\u001b[1;32m    154\u001b[0m         \u001b[39m\"\u001b[39;49m\u001b[39mpost\u001b[39;49m\u001b[39m\"\u001b[39;49m,\n\u001b[1;32m    155\u001b[0m         url,\n\u001b[1;32m    156\u001b[0m         params\u001b[39m=\u001b[39;49mparams,\n\u001b[1;32m    157\u001b[0m         headers\u001b[39m=\u001b[39;49mheaders,\n\u001b[1;32m    158\u001b[0m         stream\u001b[39m=\u001b[39;49mstream,\n\u001b[1;32m    159\u001b[0m         request_id\u001b[39m=\u001b[39;49mrequest_id,\n\u001b[1;32m    160\u001b[0m         request_timeout\u001b[39m=\u001b[39;49mrequest_timeout,\n\u001b[1;32m    161\u001b[0m     )\n\u001b[1;32m    163\u001b[0m     \u001b[39mif\u001b[39;00m stream:\n\u001b[1;32m    164\u001b[0m         \u001b[39m# must be an iterator\u001b[39;00m\n\u001b[1;32m    165\u001b[0m         \u001b[39massert\u001b[39;00m \u001b[39mnot\u001b[39;00m \u001b[39misinstance\u001b[39m(response, OpenAIResponse)\n",
      "File \u001b[0;32m~/.miniconda3/envs/langchain/lib/python3.10/site-packages/openai/api_requestor.py:227\u001b[0m, in \u001b[0;36mAPIRequestor.request\u001b[0;34m(self, method, url, params, headers, files, stream, request_id, request_timeout)\u001b[0m\n\u001b[1;32m    206\u001b[0m \u001b[39mdef\u001b[39;00m \u001b[39mrequest\u001b[39m(\n\u001b[1;32m    207\u001b[0m     \u001b[39mself\u001b[39m,\n\u001b[1;32m    208\u001b[0m     method,\n\u001b[0;32m   (...)\u001b[0m\n\u001b[1;32m    215\u001b[0m     request_timeout: Optional[Union[\u001b[39mfloat\u001b[39m, Tuple[\u001b[39mfloat\u001b[39m, \u001b[39mfloat\u001b[39m]]] \u001b[39m=\u001b[39m \u001b[39mNone\u001b[39;00m,\n\u001b[1;32m    216\u001b[0m ) \u001b[39m-\u001b[39m\u001b[39m>\u001b[39m Tuple[Union[OpenAIResponse, Iterator[OpenAIResponse]], \u001b[39mbool\u001b[39m, \u001b[39mstr\u001b[39m]:\n\u001b[1;32m    217\u001b[0m     result \u001b[39m=\u001b[39m \u001b[39mself\u001b[39m\u001b[39m.\u001b[39mrequest_raw(\n\u001b[1;32m    218\u001b[0m         method\u001b[39m.\u001b[39mlower(),\n\u001b[1;32m    219\u001b[0m         url,\n\u001b[0;32m   (...)\u001b[0m\n\u001b[1;32m    225\u001b[0m         request_timeout\u001b[39m=\u001b[39mrequest_timeout,\n\u001b[1;32m    226\u001b[0m     )\n\u001b[0;32m--> 227\u001b[0m     resp, got_stream \u001b[39m=\u001b[39m \u001b[39mself\u001b[39;49m\u001b[39m.\u001b[39;49m_interpret_response(result, stream)\n\u001b[1;32m    228\u001b[0m     \u001b[39mreturn\u001b[39;00m resp, got_stream, \u001b[39mself\u001b[39m\u001b[39m.\u001b[39mapi_key\n",
      "File \u001b[0;32m~/.miniconda3/envs/langchain/lib/python3.10/site-packages/openai/api_requestor.py:620\u001b[0m, in \u001b[0;36mAPIRequestor._interpret_response\u001b[0;34m(self, result, stream)\u001b[0m\n\u001b[1;32m    612\u001b[0m     \u001b[39mreturn\u001b[39;00m (\n\u001b[1;32m    613\u001b[0m         \u001b[39mself\u001b[39m\u001b[39m.\u001b[39m_interpret_response_line(\n\u001b[1;32m    614\u001b[0m             line, result\u001b[39m.\u001b[39mstatus_code, result\u001b[39m.\u001b[39mheaders, stream\u001b[39m=\u001b[39m\u001b[39mTrue\u001b[39;00m\n\u001b[1;32m    615\u001b[0m         )\n\u001b[1;32m    616\u001b[0m         \u001b[39mfor\u001b[39;00m line \u001b[39min\u001b[39;00m parse_stream(result\u001b[39m.\u001b[39miter_lines())\n\u001b[1;32m    617\u001b[0m     ), \u001b[39mTrue\u001b[39;00m\n\u001b[1;32m    618\u001b[0m \u001b[39melse\u001b[39;00m:\n\u001b[1;32m    619\u001b[0m     \u001b[39mreturn\u001b[39;00m (\n\u001b[0;32m--> 620\u001b[0m         \u001b[39mself\u001b[39;49m\u001b[39m.\u001b[39;49m_interpret_response_line(\n\u001b[1;32m    621\u001b[0m             result\u001b[39m.\u001b[39;49mcontent\u001b[39m.\u001b[39;49mdecode(\u001b[39m\"\u001b[39;49m\u001b[39mutf-8\u001b[39;49m\u001b[39m\"\u001b[39;49m),\n\u001b[1;32m    622\u001b[0m             result\u001b[39m.\u001b[39;49mstatus_code,\n\u001b[1;32m    623\u001b[0m             result\u001b[39m.\u001b[39;49mheaders,\n\u001b[1;32m    624\u001b[0m             stream\u001b[39m=\u001b[39;49m\u001b[39mFalse\u001b[39;49;00m,\n\u001b[1;32m    625\u001b[0m         ),\n\u001b[1;32m    626\u001b[0m         \u001b[39mFalse\u001b[39;00m,\n\u001b[1;32m    627\u001b[0m     )\n",
      "File \u001b[0;32m~/.miniconda3/envs/langchain/lib/python3.10/site-packages/openai/api_requestor.py:680\u001b[0m, in \u001b[0;36mAPIRequestor._interpret_response_line\u001b[0;34m(self, rbody, rcode, rheaders, stream)\u001b[0m\n\u001b[1;32m    678\u001b[0m stream_error \u001b[39m=\u001b[39m stream \u001b[39mand\u001b[39;00m \u001b[39m\"\u001b[39m\u001b[39merror\u001b[39m\u001b[39m\"\u001b[39m \u001b[39min\u001b[39;00m resp\u001b[39m.\u001b[39mdata\n\u001b[1;32m    679\u001b[0m \u001b[39mif\u001b[39;00m stream_error \u001b[39mor\u001b[39;00m \u001b[39mnot\u001b[39;00m \u001b[39m200\u001b[39m \u001b[39m<\u001b[39m\u001b[39m=\u001b[39m rcode \u001b[39m<\u001b[39m \u001b[39m300\u001b[39m:\n\u001b[0;32m--> 680\u001b[0m     \u001b[39mraise\u001b[39;00m \u001b[39mself\u001b[39m\u001b[39m.\u001b[39mhandle_error_response(\n\u001b[1;32m    681\u001b[0m         rbody, rcode, resp\u001b[39m.\u001b[39mdata, rheaders, stream_error\u001b[39m=\u001b[39mstream_error\n\u001b[1;32m    682\u001b[0m     )\n\u001b[1;32m    683\u001b[0m \u001b[39mreturn\u001b[39;00m resp\n",
      "\u001b[0;31mRateLimitError\u001b[0m: You exceeded your current quota, please check your plan and billing details."
     ]
    }
   ],
   "source": [
    "evaluate(run_vanilla_chain, dev)"
   ]
  },
  {
   "attachments": {},
   "cell_type": "markdown",
   "metadata": {},
   "source": [
    "# 2 - Retrieve then read"
   ]
  },
  {
   "cell_type": "code",
   "execution_count": 11,
   "metadata": {},
   "outputs": [],
   "source": [
    "prefix = \"\"\"\n",
    "Answer questions with short factoid answers.\n",
    "\"\"\"\n",
    "\n",
    "suffix = \"\"\"\n",
    "---\n",
    "\n",
    "Follow the following format.\n",
    "\n",
    "Context:\n",
    "$[sources that may contain relevant content]\n",
    "\n",
    "Question: $[the question to be answered]\n",
    "\n",
    "Answer: $[a short factoid answer, often between 1 and 5 words]\n",
    "\n",
    "---\n",
    "\n",
    "Context:\n",
    "{context}\n",
    "\n",
    "Question: {question}\n",
    "\n",
    "Answer:\n",
    "\"\"\"\n",
    "\n",
    "retrieval_prompt = FewShotPromptTemplate(\n",
    "    examples=train,\n",
    "    example_prompt=example_prompt,\n",
    "    prefix=prefix,\n",
    "    suffix=suffix,\n",
    "    input_variables=['context', 'question'],\n",
    "    example_separator=''\n",
    ")\n",
    "\n",
    "chain = LLMChain(llm=llm, prompt=retrieval_prompt)\n",
    "\n",
    "def run_retrieval_chain(example):\n",
    "    context = rm(example['question'])[0]\n",
    "    return chain.run(context=context, question=example['question'])"
   ]
  },
  {
   "cell_type": "code",
   "execution_count": 14,
   "metadata": {},
   "outputs": [
    {
     "name": "stderr",
     "output_type": "stream",
     "text": [
      "100%|██████████| 13/13 [00:13<00:00,  1.07s/it]"
     ]
    },
    {
     "name": "stdout",
     "output_type": "stream",
     "text": [
      "Correct: 5 / 13\n"
     ]
    },
    {
     "name": "stderr",
     "output_type": "stream",
     "text": [
      "\n"
     ]
    },
    {
     "data": {
      "text/html": [
       "<div>\n",
       "<style scoped>\n",
       "    .dataframe tbody tr th:only-of-type {\n",
       "        vertical-align: middle;\n",
       "    }\n",
       "\n",
       "    .dataframe tbody tr th {\n",
       "        vertical-align: top;\n",
       "    }\n",
       "\n",
       "    .dataframe thead th {\n",
       "        text-align: right;\n",
       "    }\n",
       "</style>\n",
       "<table border=\"1\" class=\"dataframe\">\n",
       "  <thead>\n",
       "    <tr style=\"text-align: right;\">\n",
       "      <th></th>\n",
       "      <th>question</th>\n",
       "      <th>answers</th>\n",
       "      <th>prediction</th>\n",
       "      <th>correct</th>\n",
       "    </tr>\n",
       "  </thead>\n",
       "  <tbody>\n",
       "    <tr>\n",
       "      <th>0</th>\n",
       "      <td>Who has a broader scope of profession: E. L. Doctorow or Julia Peterkin?</td>\n",
       "      <td>[E. L. Doctorow, E.L. Doctorow, Doctorow]</td>\n",
       "      <td>E.L. Doctorow</td>\n",
       "      <td>✅</td>\n",
       "    </tr>\n",
       "    <tr>\n",
       "      <th>1</th>\n",
       "      <td>What documentary about the Gilgo Beach Killer debuted on A&amp;E?</td>\n",
       "      <td>[The Killing Season]</td>\n",
       "      <td>The Killing Season</td>\n",
       "      <td>✅</td>\n",
       "    </tr>\n",
       "    <tr>\n",
       "      <th>2</th>\n",
       "      <td>Right Back At It Again contains lyrics co-written by the singer born in what city?</td>\n",
       "      <td>[Gainesville, Florida, Gainesville]</td>\n",
       "      <td>Orlando, Florida</td>\n",
       "      <td>❌</td>\n",
       "    </tr>\n",
       "    <tr>\n",
       "      <th>3</th>\n",
       "      <td>What year was the party of the winner of the 1971 San Francisco mayoral election founded?</td>\n",
       "      <td>[1828]</td>\n",
       "      <td>1936</td>\n",
       "      <td>❌</td>\n",
       "    </tr>\n",
       "    <tr>\n",
       "      <th>4</th>\n",
       "      <td>Which author is English: John Braine or Studs Terkel?</td>\n",
       "      <td>[John Braine]</td>\n",
       "      <td>Studs Terkel</td>\n",
       "      <td>❌</td>\n",
       "    </tr>\n",
       "    <tr>\n",
       "      <th>5</th>\n",
       "      <td>Anthony Dirrell is the brother of which super middleweight title holder?</td>\n",
       "      <td>[Andre Dirrell]</td>\n",
       "      <td>Andre Dirrell</td>\n",
       "      <td>✅</td>\n",
       "    </tr>\n",
       "    <tr>\n",
       "      <th>6</th>\n",
       "      <td>In which city is the sports nutrition business established by Oliver Cookson based ?</td>\n",
       "      <td>[Cheshire, Cheshire, UK]</td>\n",
       "      <td>Manchester, UK</td>\n",
       "      <td>❌</td>\n",
       "    </tr>\n",
       "    <tr>\n",
       "      <th>7</th>\n",
       "      <td>Find the birth date of the actor who played roles in First Wives Club and Searching for the Elephant.</td>\n",
       "      <td>[February 13, 1980]</td>\n",
       "      <td>5 August 1862</td>\n",
       "      <td>❌</td>\n",
       "    </tr>\n",
       "    <tr>\n",
       "      <th>8</th>\n",
       "      <td>Kyle Moran was born in the town on what river?</td>\n",
       "      <td>[Castletown, Castletown River]</td>\n",
       "      <td>Liffey River</td>\n",
       "      <td>❌</td>\n",
       "    </tr>\n",
       "    <tr>\n",
       "      <th>9</th>\n",
       "      <td>What is the name of one branch of Robert D. Braun's speciality?</td>\n",
       "      <td>[aeronautical engineering, astronautical engineering, aeronautics, astronautics]</td>\n",
       "      <td>Jet Propulsion</td>\n",
       "      <td>❌</td>\n",
       "    </tr>\n",
       "    <tr>\n",
       "      <th>10</th>\n",
       "      <td>Where was the actress who played the niece in the Priest film born?</td>\n",
       "      <td>[Surrey, Guildford, Surrey]</td>\n",
       "      <td>Fred Savage</td>\n",
       "      <td>❌</td>\n",
       "    </tr>\n",
       "    <tr>\n",
       "      <th>11</th>\n",
       "      <td>Name the movie in which the daughter of Noel Harrison plays Violet Trefusis.</td>\n",
       "      <td>[Portrait of a Marriage]</td>\n",
       "      <td>Portrait of a Marriage</td>\n",
       "      <td>✅</td>\n",
       "    </tr>\n",
       "    <tr>\n",
       "      <th>12</th>\n",
       "      <td>What year was the father of the Princes in the Tower born?</td>\n",
       "      <td>[1442]</td>\n",
       "      <td>1442</td>\n",
       "      <td>✅</td>\n",
       "    </tr>\n",
       "  </tbody>\n",
       "</table>\n",
       "</div>"
      ],
      "text/plain": [
       "                                                                                                 question  \\\n",
       "0                                Who has a broader scope of profession: E. L. Doctorow or Julia Peterkin?   \n",
       "1                                           What documentary about the Gilgo Beach Killer debuted on A&E?   \n",
       "2                      Right Back At It Again contains lyrics co-written by the singer born in what city?   \n",
       "3               What year was the party of the winner of the 1971 San Francisco mayoral election founded?   \n",
       "4                                                   Which author is English: John Braine or Studs Terkel?   \n",
       "5                                Anthony Dirrell is the brother of which super middleweight title holder?   \n",
       "6                    In which city is the sports nutrition business established by Oliver Cookson based ?   \n",
       "7   Find the birth date of the actor who played roles in First Wives Club and Searching for the Elephant.   \n",
       "8                                                          Kyle Moran was born in the town on what river?   \n",
       "9                                         What is the name of one branch of Robert D. Braun's speciality?   \n",
       "10                                    Where was the actress who played the niece in the Priest film born?   \n",
       "11                           Name the movie in which the daughter of Noel Harrison plays Violet Trefusis.   \n",
       "12                                             What year was the father of the Princes in the Tower born?   \n",
       "\n",
       "                                                                             answers  \\\n",
       "0                                          [E. L. Doctorow, E.L. Doctorow, Doctorow]   \n",
       "1                                                               [The Killing Season]   \n",
       "2                                                [Gainesville, Florida, Gainesville]   \n",
       "3                                                                             [1828]   \n",
       "4                                                                      [John Braine]   \n",
       "5                                                                    [Andre Dirrell]   \n",
       "6                                                           [Cheshire, Cheshire, UK]   \n",
       "7                                                                [February 13, 1980]   \n",
       "8                                                     [Castletown, Castletown River]   \n",
       "9   [aeronautical engineering, astronautical engineering, aeronautics, astronautics]   \n",
       "10                                                       [Surrey, Guildford, Surrey]   \n",
       "11                                                          [Portrait of a Marriage]   \n",
       "12                                                                            [1442]   \n",
       "\n",
       "                prediction correct  \n",
       "0            E.L. Doctorow       ✅  \n",
       "1       The Killing Season       ✅  \n",
       "2         Orlando, Florida       ❌  \n",
       "3                     1936       ❌  \n",
       "4             Studs Terkel       ❌  \n",
       "5            Andre Dirrell       ✅  \n",
       "6           Manchester, UK       ❌  \n",
       "7            5 August 1862       ❌  \n",
       "8             Liffey River       ❌  \n",
       "9           Jet Propulsion       ❌  \n",
       "10             Fred Savage       ❌  \n",
       "11  Portrait of a Marriage       ✅  \n",
       "12                    1442       ✅  "
      ]
     },
     "metadata": {},
     "output_type": "display_data"
    }
   ],
   "source": [
    "evaluate(run_retrieval_chain, dev)"
   ]
  },
  {
   "attachments": {},
   "cell_type": "markdown",
   "metadata": {},
   "source": [
    "# 3 - Retrieve then read with self-consistency"
   ]
  },
  {
   "cell_type": "code",
   "execution_count": 39,
   "metadata": {},
   "outputs": [],
   "source": [
    "from collections import Counter\n",
    "\n",
    "prefix = \"\"\"\n",
    "Answer questions with short factoid answers.\n",
    "\"\"\"\n",
    "\n",
    "suffix = \"\"\"\n",
    "---\n",
    "\n",
    "Follow the following format.\n",
    "\n",
    "Context:\n",
    "$[sources that may contain relevant content]\n",
    "\n",
    "Question: $[the question to be answered]\n",
    "\n",
    "Rationale: Let's think step by step. $[a step-by-step deduction that identifies the correct response, which will be provided below]\n",
    "\n",
    "Answer: $[a short factoid answer, often between 1 and 5 words]\n",
    "\n",
    "---\n",
    "\n",
    "Context:\n",
    "{context}\n",
    "\n",
    "Question: {question}\n",
    "\n",
    "Rationale: Let's think step by step.\"\"\"\n",
    "\n",
    "rationale_prompt = FewShotPromptTemplate(\n",
    "    examples=train,\n",
    "    example_prompt=example_prompt,\n",
    "    prefix=prefix,\n",
    "    suffix=suffix,\n",
    "    input_variables=['context', 'question'],\n",
    "    example_separator=''\n",
    ")\n",
    "\n",
    "chain = LLMChain(llm=llm, prompt=rationale_prompt)\n",
    "\n",
    "def run_rationale_chain(example, n=20):\n",
    "    context = rm(example['question'], k=5)\n",
    "    context = '\\n'.join([f'[{i+1}] {c}' for i, c in enumerate(context)])\n",
    "\n",
    "    # Self consistency\n",
    "    answers = []\n",
    "    for i in range(n):\n",
    "        completion = chain.run(context=context, question=example['question'])\n",
    "        last_line = completion.split('\\n')[-1].strip()\n",
    "        answer = last_line.split(':')[-1].strip()\n",
    "        answers.append(answer)\n",
    "\n",
    "    return Counter(answers).most_common(1)[0][0]"
   ]
  },
  {
   "cell_type": "code",
   "execution_count": 40,
   "metadata": {},
   "outputs": [
    {
     "name": "stderr",
     "output_type": "stream",
     "text": [
      "  8%|▊         | 1/13 [01:13<14:47, 73.96s/it]"
     ]
    },
    {
     "name": "stdout",
     "output_type": "stream",
     "text": [
      "['Physician', 'E.L. Doctorow', 'Physician', 'E. L. Doctorow', 'E.L. Doctorow', 'Julia Peterkin', 'E. L. Doctorow', 'Doctorow', 'Physician', 'E.L. Doctorow', 'Doctorow', 'Julia Peterkin', 'E. L. Doctorow', 'Physician', 'Physician', 'E. L. Doctorow', 'E. L. Doctorow', 'Doctorow', 'Physician', 'E. L. Doctorow']\n"
     ]
    },
    {
     "name": "stderr",
     "output_type": "stream",
     "text": [
      " 15%|█▌        | 2/13 [02:14<12:07, 66.14s/it]"
     ]
    },
    {
     "name": "stdout",
     "output_type": "stream",
     "text": [
      "['The Killing Season', 'The Killing Season', 'The Killing Season', 'The Killing Season', 'The Killing Season', 'The Killing Season', 'The Killing Season', 'The Killing Season', 'The Killing Season', 'The Killing Season', 'The Killing Season', 'The Killing Season', 'The Killing Season', 'The Killing Season', 'The Killing Season', 'The Killing Season', 'The Killing Season', 'The Killing Season', 'The Killing Season', 'The Killing Season']\n"
     ]
    },
    {
     "name": "stderr",
     "output_type": "stream",
     "text": [
      " 23%|██▎       | 3/13 [03:35<12:10, 73.02s/it]"
     ]
    },
    {
     "name": "stdout",
     "output_type": "stream",
     "text": [
      "['Ocala, Florida', 'Ocala, Florida', 'Ocala, Florida', 'Ocala, Florida', 'Ocala, Florida', 'Canada', 'Ocala, Florida', 'Ocala, Florida', 'Ocala, Florida', 'Ocala, Florida', 'Ocala, Florida', 'Ocala, Florida', 'Ocala, Florida', 'Ocala, Florida', 'Ottawa', 'Toronto, Ontario', 'Ocala, Florida.', 'Ocala, Florida', 'Ocala, Florida', 'Ocala, Florida']\n"
     ]
    },
    {
     "name": "stderr",
     "output_type": "stream",
     "text": [
      " 31%|███       | 4/13 [04:50<11:03, 73.72s/it]"
     ]
    },
    {
     "name": "stdout",
     "output_type": "stream",
     "text": [
      "['1965', '1828', '1969', 'Prior to 1971', '1849', '1933', '1968', '1828', '1828', '1971', '1934', '1952', '1828', '1968', '1968', '1828', '1971', '1934', '1934', '1945']\n"
     ]
    },
    {
     "name": "stderr",
     "output_type": "stream",
     "text": [
      " 38%|███▊      | 5/13 [06:11<10:10, 76.31s/it]"
     ]
    },
    {
     "name": "stdout",
     "output_type": "stream",
     "text": [
      "['John Braine', 'John Braine', 'John Braine', 'John Braine', 'John Braine', 'John Braine', 'John Braine', 'John Braine', 'John Braine', 'John Braine', 'John Braine', 'John Braine.', 'John Braine', 'John Braine', 'John Braine.', 'John Braine', 'John Braine', 'John Braine', 'John Braine', 'John Braine']\n"
     ]
    },
    {
     "name": "stderr",
     "output_type": "stream",
     "text": [
      " 46%|████▌     | 6/13 [07:27<08:52, 76.14s/it]"
     ]
    },
    {
     "name": "stdout",
     "output_type": "stream",
     "text": [
      "['Andre Dirrell', 'Andre Dirrell', 'Andre Dirrell', 'Andre Dirrell', 'Andre Dirrell', 'Andre Dirrell', 'Andre Dirrell', 'Andre Dirrell', 'Andre Dirrell', 'Andre Dirrell', 'Andre Dirrell', 'Andre Dirrell', 'Andre Dirrell', 'Andre Dirrell', 'Andre Dirrell', 'Andre Dirrell', 'Andre Dirrell', 'Andre Dirrell', 'Andre Dirrell', 'Andre Dirrell.']\n"
     ]
    },
    {
     "name": "stderr",
     "output_type": "stream",
     "text": [
      " 54%|█████▍    | 7/13 [08:28<07:06, 71.12s/it]"
     ]
    },
    {
     "name": "stdout",
     "output_type": "stream",
     "text": [
      "['Cheshire, UK', 'Cheshire, UK', 'Cheshire, UK', 'Cheshire, UK', 'Cheshire, UK', 'Cheshire, UK', 'Cheshire, UK', 'Cheshire, UK', 'Cheshire, UK', 'Cheshire, UK', 'Cheshire, UK', 'Cheshire, UK', 'Cheshire, UK', 'Cheshire, UK', 'Cheshire, UK', 'Cheshire, UK', 'Cheshire, UK', 'Cheshire, UK', 'Cheshire, UK', 'Cheshire, UK']\n"
     ]
    },
    {
     "name": "stderr",
     "output_type": "stream",
     "text": [
      " 62%|██████▏   | 8/13 [09:27<05:37, 67.46s/it]"
     ]
    },
    {
     "name": "stdout",
     "output_type": "stream",
     "text": [
      "['27 September 1974', '1978', '27 September 1974', '1938', '1943', '1945', '27 September 1974', '27 September 1974', '1978', '1936', '27 September 1974', '27 September 1974', '1943', '1941', '19 December 1944', '1954', '1939', '1974', '1978', '1945']\n"
     ]
    },
    {
     "name": "stderr",
     "output_type": "stream",
     "text": [
      " 69%|██████▉   | 9/13 [10:19<04:09, 62.40s/it]"
     ]
    },
    {
     "name": "stdout",
     "output_type": "stream",
     "text": [
      "['Castletown River', 'Boyne', 'Liffey', 'Castletown River', 'River Foyle', 'River Louth', 'River Boyne', 'Irish Sea', 'East River', 'Castletown River', 'Liffey', 'River Foyle', 'River Foyle', 'River Fane', 'Foyle', 'Liffey', 'Castletown River', 'River of Ireland', 'Liffey', 'River Boyne']\n"
     ]
    },
    {
     "name": "stderr",
     "output_type": "stream",
     "text": [
      " 77%|███████▋  | 10/13 [11:27<03:12, 64.20s/it]"
     ]
    },
    {
     "name": "stdout",
     "output_type": "stream",
     "text": [
      "['Aerospace Engineering', 'Aerospace Engineering', 'Aeronautics and Astronautics', 'Aeronautics and Astronautics', 'Space technology', 'Aerospace engineering', 'Aerospace engineering', 'Astronautics', 'Space Technology', 'Aeronautics and Astronautics', 'Aerospace engineering', 'Aeronautics and Astronautics', 'Aerospace engineering', 'Aeronautics and Astronautics', 'Aerospace engineering', 'Astronautics', 'Aerospace engineering', 'Aeronautics and astronautics.', 'Aerospace engineering', 'Aerospace engineering']\n"
     ]
    },
    {
     "name": "stderr",
     "output_type": "stream",
     "text": [
      " 85%|████████▍ | 11/13 [13:52<02:58, 89.02s/it]"
     ]
    },
    {
     "name": "stdout",
     "output_type": "stream",
     "text": [
      "['London', '1990', '1995', 'London, England', '1990', '1990', 'United States', 'England', '1990', 'London', 'London', '1990', '1995', 'London', 'London', 'New York City, 1958', 'London', 'London, England', '1990', 'London']\n"
     ]
    },
    {
     "name": "stderr",
     "output_type": "stream",
     "text": [
      " 92%|█████████▏| 12/13 [14:50<01:19, 79.62s/it]"
     ]
    },
    {
     "name": "stdout",
     "output_type": "stream",
     "text": [
      "['Portrait of a Marriage', 'Portrait of a Marriage', 'Portrait of a Marriage', 'Portrait of a Marriage', 'Portrait of a Marriage', 'Portrait of a Marriage', 'Portrait of a Marriage', 'Portrait of a Marriage', 'Portrait of a Marriage', 'Portrait of a Marriage', 'Portrait of a Marriage', 'Portrait of a Marriage', '\"Portrait of a Marriage\"', 'Portrait of a Marriage.', 'Portrait of a Marriage', 'Portrait of a Marriage', 'Portrait of a Marriage', 'Portrait of a Marriage', 'Portrait of a Marriage', 'Portrait of a Marriage']\n"
     ]
    },
    {
     "name": "stderr",
     "output_type": "stream",
     "text": [
      "100%|██████████| 13/13 [16:08<00:00, 74.49s/it]"
     ]
    },
    {
     "name": "stdout",
     "output_type": "stream",
     "text": [
      "['1442', '1462', '1312', '1312', '1455', 'c. 1455', 'c. 1455', '1442', '1442', '1442', '1442', '1455', 'c. 1455', '1442', '1442', '1442', '1340', '1442', '1455', 'c. 1455']\n",
      "Correct: 8 / 13\n"
     ]
    },
    {
     "name": "stderr",
     "output_type": "stream",
     "text": [
      "\n"
     ]
    },
    {
     "data": {
      "text/html": [
       "<div>\n",
       "<style scoped>\n",
       "    .dataframe tbody tr th:only-of-type {\n",
       "        vertical-align: middle;\n",
       "    }\n",
       "\n",
       "    .dataframe tbody tr th {\n",
       "        vertical-align: top;\n",
       "    }\n",
       "\n",
       "    .dataframe thead th {\n",
       "        text-align: right;\n",
       "    }\n",
       "</style>\n",
       "<table border=\"1\" class=\"dataframe\">\n",
       "  <thead>\n",
       "    <tr style=\"text-align: right;\">\n",
       "      <th></th>\n",
       "      <th>question</th>\n",
       "      <th>answers</th>\n",
       "      <th>prediction</th>\n",
       "      <th>correct</th>\n",
       "    </tr>\n",
       "  </thead>\n",
       "  <tbody>\n",
       "    <tr>\n",
       "      <th>0</th>\n",
       "      <td>Who has a broader scope of profession: E. L. Doctorow or Julia Peterkin?</td>\n",
       "      <td>[E. L. Doctorow, E.L. Doctorow, Doctorow]</td>\n",
       "      <td>Physician</td>\n",
       "      <td>❌</td>\n",
       "    </tr>\n",
       "    <tr>\n",
       "      <th>1</th>\n",
       "      <td>What documentary about the Gilgo Beach Killer debuted on A&amp;E?</td>\n",
       "      <td>[The Killing Season]</td>\n",
       "      <td>The Killing Season</td>\n",
       "      <td>✅</td>\n",
       "    </tr>\n",
       "    <tr>\n",
       "      <th>2</th>\n",
       "      <td>Right Back At It Again contains lyrics co-written by the singer born in what city?</td>\n",
       "      <td>[Gainesville, Florida, Gainesville]</td>\n",
       "      <td>Ocala, Florida</td>\n",
       "      <td>❌</td>\n",
       "    </tr>\n",
       "    <tr>\n",
       "      <th>3</th>\n",
       "      <td>What year was the party of the winner of the 1971 San Francisco mayoral election founded?</td>\n",
       "      <td>[1828]</td>\n",
       "      <td>1828</td>\n",
       "      <td>✅</td>\n",
       "    </tr>\n",
       "    <tr>\n",
       "      <th>4</th>\n",
       "      <td>Which author is English: John Braine or Studs Terkel?</td>\n",
       "      <td>[John Braine]</td>\n",
       "      <td>John Braine</td>\n",
       "      <td>✅</td>\n",
       "    </tr>\n",
       "    <tr>\n",
       "      <th>5</th>\n",
       "      <td>Anthony Dirrell is the brother of which super middleweight title holder?</td>\n",
       "      <td>[Andre Dirrell]</td>\n",
       "      <td>Andre Dirrell</td>\n",
       "      <td>✅</td>\n",
       "    </tr>\n",
       "    <tr>\n",
       "      <th>6</th>\n",
       "      <td>In which city is the sports nutrition business established by Oliver Cookson based ?</td>\n",
       "      <td>[Cheshire, Cheshire, UK]</td>\n",
       "      <td>Cheshire, UK</td>\n",
       "      <td>✅</td>\n",
       "    </tr>\n",
       "    <tr>\n",
       "      <th>7</th>\n",
       "      <td>Find the birth date of the actor who played roles in First Wives Club and Searching for the Elephant.</td>\n",
       "      <td>[February 13, 1980]</td>\n",
       "      <td>27 September 1974</td>\n",
       "      <td>❌</td>\n",
       "    </tr>\n",
       "    <tr>\n",
       "      <th>8</th>\n",
       "      <td>Kyle Moran was born in the town on what river?</td>\n",
       "      <td>[Castletown, Castletown River]</td>\n",
       "      <td>Castletown River</td>\n",
       "      <td>✅</td>\n",
       "    </tr>\n",
       "    <tr>\n",
       "      <th>9</th>\n",
       "      <td>What is the name of one branch of Robert D. Braun's speciality?</td>\n",
       "      <td>[aeronautical engineering, astronautical engineering, aeronautics, astronautics]</td>\n",
       "      <td>Aerospace engineering</td>\n",
       "      <td>❌</td>\n",
       "    </tr>\n",
       "    <tr>\n",
       "      <th>10</th>\n",
       "      <td>Where was the actress who played the niece in the Priest film born?</td>\n",
       "      <td>[Surrey, Guildford, Surrey]</td>\n",
       "      <td>London</td>\n",
       "      <td>❌</td>\n",
       "    </tr>\n",
       "    <tr>\n",
       "      <th>11</th>\n",
       "      <td>Name the movie in which the daughter of Noel Harrison plays Violet Trefusis.</td>\n",
       "      <td>[Portrait of a Marriage]</td>\n",
       "      <td>Portrait of a Marriage</td>\n",
       "      <td>✅</td>\n",
       "    </tr>\n",
       "    <tr>\n",
       "      <th>12</th>\n",
       "      <td>What year was the father of the Princes in the Tower born?</td>\n",
       "      <td>[1442]</td>\n",
       "      <td>1442</td>\n",
       "      <td>✅</td>\n",
       "    </tr>\n",
       "  </tbody>\n",
       "</table>\n",
       "</div>"
      ],
      "text/plain": [
       "                                                                                                 question  \\\n",
       "0                                Who has a broader scope of profession: E. L. Doctorow or Julia Peterkin?   \n",
       "1                                           What documentary about the Gilgo Beach Killer debuted on A&E?   \n",
       "2                      Right Back At It Again contains lyrics co-written by the singer born in what city?   \n",
       "3               What year was the party of the winner of the 1971 San Francisco mayoral election founded?   \n",
       "4                                                   Which author is English: John Braine or Studs Terkel?   \n",
       "5                                Anthony Dirrell is the brother of which super middleweight title holder?   \n",
       "6                    In which city is the sports nutrition business established by Oliver Cookson based ?   \n",
       "7   Find the birth date of the actor who played roles in First Wives Club and Searching for the Elephant.   \n",
       "8                                                          Kyle Moran was born in the town on what river?   \n",
       "9                                         What is the name of one branch of Robert D. Braun's speciality?   \n",
       "10                                    Where was the actress who played the niece in the Priest film born?   \n",
       "11                           Name the movie in which the daughter of Noel Harrison plays Violet Trefusis.   \n",
       "12                                             What year was the father of the Princes in the Tower born?   \n",
       "\n",
       "                                                                             answers  \\\n",
       "0                                          [E. L. Doctorow, E.L. Doctorow, Doctorow]   \n",
       "1                                                               [The Killing Season]   \n",
       "2                                                [Gainesville, Florida, Gainesville]   \n",
       "3                                                                             [1828]   \n",
       "4                                                                      [John Braine]   \n",
       "5                                                                    [Andre Dirrell]   \n",
       "6                                                           [Cheshire, Cheshire, UK]   \n",
       "7                                                                [February 13, 1980]   \n",
       "8                                                     [Castletown, Castletown River]   \n",
       "9   [aeronautical engineering, astronautical engineering, aeronautics, astronautics]   \n",
       "10                                                       [Surrey, Guildford, Surrey]   \n",
       "11                                                          [Portrait of a Marriage]   \n",
       "12                                                                            [1442]   \n",
       "\n",
       "                prediction correct  \n",
       "0                Physician       ❌  \n",
       "1       The Killing Season       ✅  \n",
       "2           Ocala, Florida       ❌  \n",
       "3                     1828       ✅  \n",
       "4              John Braine       ✅  \n",
       "5            Andre Dirrell       ✅  \n",
       "6             Cheshire, UK       ✅  \n",
       "7        27 September 1974       ❌  \n",
       "8         Castletown River       ✅  \n",
       "9    Aerospace engineering       ❌  \n",
       "10                  London       ❌  \n",
       "11  Portrait of a Marriage       ✅  \n",
       "12                    1442       ✅  "
      ]
     },
     "metadata": {},
     "output_type": "display_data"
    }
   ],
   "source": [
    "evaluate(run_rationale_chain, dev)"
   ]
  },
  {
   "attachments": {},
   "cell_type": "markdown",
   "metadata": {},
   "source": [
    "# 4 - Multi-hop retrieval"
   ]
  },
  {
   "cell_type": "code",
   "execution_count": 4,
   "metadata": {},
   "outputs": [],
   "source": [
    "search_retrieval_template_first_hop = \"\"\"\n",
    "Write a search query that will help answer a complex question.\n",
    "\n",
    "---\n",
    "\n",
    "Follow the following format.\n",
    "\n",
    "Question: $[the question to be answered]\n",
    "Rationale: Let's think step by step. To answer this question, we first need to find out $[the missing information]\n",
    "Search Query: $[a simple question for seeking the missing information]\n",
    "\n",
    "---\n",
    "\n",
    "Question: {question}\n",
    "Rationale: Let's think step by step. To answer this question, we first need to find out\"\"\"\n",
    "\n",
    "first_hop_prompt = PromptTemplate(\n",
    "    input_variables=['question'],\n",
    "    template=search_retrieval_template_first_hop,\n",
    ")\n",
    "\n",
    "chain = LLMChain(llm=llm, prompt=first_hop_prompt)\n",
    "completion_first_hop = chain.run(dev[2]['question'])"
   ]
  },
  {
   "cell_type": "code",
   "execution_count": 5,
   "metadata": {},
   "outputs": [
    {
     "data": {
      "text/plain": [
       "' which singer co-wrote the lyrics to \"Right Back At It Again\".\\nSearch Query: Who co-wrote the lyrics to \"Right Back At It Again\"?'"
      ]
     },
     "execution_count": 5,
     "metadata": {},
     "output_type": "execute_result"
    }
   ],
   "source": [
    "completion_first_hop"
   ]
  },
  {
   "cell_type": "code",
   "execution_count": 6,
   "metadata": {},
   "outputs": [
    {
     "data": {
      "text/plain": [
       "'Who co-wrote the lyrics to \"Right Back At It Again\"?'"
      ]
     },
     "execution_count": 6,
     "metadata": {},
     "output_type": "execute_result"
    }
   ],
   "source": [
    "retrieval_question_first_hop = completion_first_hop.split('\\n')[-1].split(':')[-1].strip()\n",
    "retrieval_question_first_hop"
   ]
  },
  {
   "cell_type": "code",
   "execution_count": 8,
   "metadata": {},
   "outputs": [
    {
     "name": "stdout",
     "output_type": "stream",
     "text": [
      "\n",
      "Write a search query that will help answer a complex question.\n",
      "\n",
      "---\n",
      "\n",
      "Follow the following format.\n",
      "\n",
      "Context:\n",
      "$[sources that may contain relevant content]\n",
      "\n",
      "Question: $[the question to be answered]\n",
      "Rationale: Let's think step by step. Based on the context, we have learned the following. $[information from the context that provides useful clues]\n",
      "Search Query: $[a simple question for seeking the missing information]\n",
      "\n",
      "---\n",
      "\n",
      "Context:\n",
      "[1] Right Back at It Again | Right Back at It Again \"Right Back at It Again\" is the second track and the first single from A Day to Remember's fifth album, \"Common Courtesy\" (2013). In October 20, 2015, the song was featured in Activision rhythm-music game, \"\". Vocalist, Jeremy McKinnon wrote the lyrics, while the music was written by McKinnon, former guitarist Tom Denney, guitarist Neil Westfall and producer Andrew Wade. \"Right Back at It Again\" almost wasn't included on the album as it was one of the excess songs the band had recorded, \"we realised that it sounded great, so on it went.\" \"Right Back\n",
      "[2] Right Back at It Again | at the Kerrang! Awards. Personnel per digital booklet. Right Back at It Again \"Right Back at It Again\" is the second track and the first single from A Day to Remember's fifth album, \"Common Courtesy\" (2013). In October 20, 2015, the song was featured in Activision rhythm-music game, \"\". Vocalist, Jeremy McKinnon wrote the lyrics, while the music was written by McKinnon, former guitarist Tom Denney, guitarist Neil Westfall and producer Andrew Wade. \"Right Back at It Again\" almost wasn't included on the album as it was one of the excess songs the band had recorded, \"we realised that it\n",
      "\n",
      "Question: Right Back At It Again contains lyrics co-written by the singer born in what city?\n",
      "Rationale: Let's think step by step. Based on the context, we have learned the following.\n"
     ]
    }
   ],
   "source": [
    "def format_context_for_prompt(context):\n",
    "    \"\"\"\n",
    "    Format and enumerate a list of context strings for use in a prompt.\n",
    "    \"\"\"\n",
    "    return '\\n'.join([f'[{i+1}] {c}' for i, c in enumerate(context)])\n",
    "\n",
    "\n",
    "def extract_last_line(completion, remove_prefix=True):\n",
    "    \"\"\"\n",
    "    Extract the last line of a completion, optionally removing the prefix.\n",
    "    \"\"\"\n",
    "    last_line = completion.split('\\n')[-1].strip()\n",
    "    if remove_prefix:\n",
    "        last_line = last_line.split(':')[-1].strip()\n",
    "    return last_line\n",
    "\n",
    "\n",
    "search_retrieval_template_second_hop = \"\"\"\n",
    "Write a search query that will help answer a complex question.\n",
    "\n",
    "---\n",
    "\n",
    "Follow the following format.\n",
    "\n",
    "Context:\n",
    "$[sources that may contain relevant content]\n",
    "\n",
    "Question: $[the question to be answered]\n",
    "Rationale: Let's think step by step. Based on the context, we have learned the following. $[information from the context that provides useful clues]\n",
    "Search Query: $[a simple question for seeking the missing information]\n",
    "\n",
    "---\n",
    "\n",
    "Context:\n",
    "{context}\n",
    "\n",
    "Question: {question}\n",
    "Rationale: Let's think step by step. Based on the context, we have learned the following.\"\"\"\n",
    "\n",
    "context = rm(retrieval_question_first_hop, k=2)\n",
    "context = format_context_for_prompt(context)\n",
    "\n",
    "second_hop_prompt = PromptTemplate(\n",
    "    input_variables=['context', 'question'],\n",
    "    template=search_retrieval_template_second_hop,\n",
    ")\n",
    "\n",
    "print(second_hop_prompt.format(context=context, question=dev[2]['question']))"
   ]
  },
  {
   "cell_type": "code",
   "execution_count": 9,
   "metadata": {},
   "outputs": [
    {
     "data": {
      "text/plain": [
       "' The singer of Right Back At It Again is Jeremy McKinnon and he co-wrote the lyrics.\\n\\nSearch Query: \"Jeremy McKinnon\" birthplace'"
      ]
     },
     "execution_count": 9,
     "metadata": {},
     "output_type": "execute_result"
    }
   ],
   "source": [
    "chain = LLMChain(llm=llm, prompt=second_hop_prompt)\n",
    "completion_second_hop = chain.run(context=context, question=dev[2]['question'])\n",
    "completion_second_hop"
   ]
  },
  {
   "cell_type": "code",
   "execution_count": 10,
   "metadata": {},
   "outputs": [
    {
     "data": {
      "text/plain": [
       "'\"Jeremy McKinnon\" birthplace'"
      ]
     },
     "execution_count": 10,
     "metadata": {},
     "output_type": "execute_result"
    }
   ],
   "source": [
    "retrieval_question_second_hop = completion_second_hop.split('\\n')[-1].split(':')[-1].strip()\n",
    "retrieval_question_second_hop"
   ]
  },
  {
   "cell_type": "code",
   "execution_count": 13,
   "metadata": {},
   "outputs": [],
   "source": [
    "prefix = \"\"\"\n",
    "Answer questions with short factoid answers.\n",
    "\"\"\"\n",
    "\n",
    "suffix = \"\"\"\n",
    "---\n",
    "\n",
    "Follow the following format.\n",
    "\n",
    "Context:\n",
    "$[sources that may contain relevant content]\n",
    "\n",
    "Question: $[the question to be answered]\n",
    "\n",
    "Rationale: Let's think step by step. $[a step-by-step deduction that identifies the correct response, which will be provided below]\n",
    "\n",
    "Answer: $[a short factoid answer, often between 1 and 5 words]\n",
    "\n",
    "---\n",
    "\n",
    "Context:\n",
    "{context}\n",
    "\n",
    "Question: {question}\n",
    "\n",
    "Rationale: Let's think step by step.\"\"\"\n",
    "\n",
    "context = rm(retrieval_question_second_hop, k=2)\n",
    "context = format_context_for_prompt(context)\n",
    "\n",
    "rationale_prompt = FewShotPromptTemplate(\n",
    "    examples=train,\n",
    "    example_prompt=example_prompt,\n",
    "    prefix=prefix,\n",
    "    suffix=suffix,\n",
    "    input_variables=['context', 'question'],\n",
    "    example_separator=''\n",
    ")\n",
    "\n",
    "chain = LLMChain(llm=llm, prompt=rationale_prompt)\n",
    "final_completion = chain.run(context=context, question=dev[2]['question'])"
   ]
  },
  {
   "cell_type": "code",
   "execution_count": 14,
   "metadata": {},
   "outputs": [
    {
     "data": {
      "text/plain": [
       "\" First, let's consider the provided context. We are told that Jeremy McKinnon is the singer in A Day to Remember, which is a band he founded. We are also informed that he is an American musician and record producer. We can deduce from this that the song Right Back At It Again is a song by A Day to Remember, and that Jeremy McKinnon would have co-written the lyrics. Then, we check the first source to see where Jeremy McKinnon was born - Gainesville, Florida. \\n\\nAnswer: Gainesville, Florida\""
      ]
     },
     "execution_count": 14,
     "metadata": {},
     "output_type": "execute_result"
    }
   ],
   "source": [
    "final_completion"
   ]
  },
  {
   "cell_type": "code",
   "execution_count": 15,
   "metadata": {},
   "outputs": [
    {
     "data": {
      "text/plain": [
       "'Gainesville, Florida'"
      ]
     },
     "execution_count": 15,
     "metadata": {},
     "output_type": "execute_result"
    }
   ],
   "source": [
    "answer = final_completion.split('\\n')[-1].split(':')[-1].strip()\n",
    "answer"
   ]
  },
  {
   "cell_type": "code",
   "execution_count": null,
   "metadata": {},
   "outputs": [],
   "source": []
  }
 ],
 "metadata": {
  "kernelspec": {
   "display_name": "langchain",
   "language": "python",
   "name": "python3"
  },
  "language_info": {
   "codemirror_mode": {
    "name": "ipython",
    "version": 3
   },
   "file_extension": ".py",
   "mimetype": "text/x-python",
   "name": "python",
   "nbconvert_exporter": "python",
   "pygments_lexer": "ipython3",
   "version": "3.10.9"
  },
  "orig_nbformat": 4,
  "vscode": {
   "interpreter": {
    "hash": "3aca490f9a0f751abb7b67a986b53a205a0c5a0f3543c7b78e123a0222b6ba54"
   }
  }
 },
 "nbformat": 4,
 "nbformat_minor": 2
}
